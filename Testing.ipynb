{
 "cells": [
  {
   "cell_type": "markdown",
   "metadata": {},
   "source": [
    "# Testing"
   ]
  },
  {
   "cell_type": "markdown",
   "metadata": {},
   "source": [
    "Beispielhaftes Ausprobieren verschiedener Eingabemasken etc"
   ]
  },
  {
   "cell_type": "code",
   "execution_count": 27,
   "metadata": {},
   "outputs": [],
   "source": [
    "import ipywidgets as widgets\n",
    "import ipysheet\n",
    "from ipysheet import sheet, cell\n",
    "import numpy as np\n",
    "import pandas as pd"
   ]
  },
  {
   "cell_type": "code",
   "execution_count": 60,
   "metadata": {},
   "outputs": [],
   "source": [
    "layout = widgets.Layout(width='auto',height='40px')"
   ]
  },
  {
   "cell_type": "code",
   "execution_count": 77,
   "metadata": {
    "code_folding": [
     0
    ]
   },
   "outputs": [
    {
     "data": {
      "application/vnd.jupyter.widget-view+json": {
       "model_id": "387e89e6b1694d658b66d8dfdd9c408d",
       "version_major": 2,
       "version_minor": 0
      },
      "text/plain": [
       "ToggleButtons(description='Daten Eingabe:', options=('manuell', 'importieren'), style=ToggleButtonsStyle(descr…"
      ]
     },
     "metadata": {},
     "output_type": "display_data"
    }
   ],
   "source": [
    "widgets.ToggleButtons(\n",
    "    options=['manuell', 'importieren'],\n",
    "    description='Daten Eingabe:',\n",
    "    style={'description_width':'initial'},\n",
    "    disabled=False,\n",
    "    button_style='', # 'success', 'info', 'warning', 'danger' or ''\n",
    "    #tooltips=['Description of slow', 'Description of regular', 'Description of fast'],\n",
    "   # icons=['check'] * 3\n",
    ")"
   ]
  },
  {
   "cell_type": "markdown",
   "metadata": {},
   "source": [
    "## Eingabe Inputdaten"
   ]
  },
  {
   "cell_type": "code",
   "execution_count": 101,
   "metadata": {
    "ExecuteTime": {
     "end_time": "2021-03-03T10:44:15.859122Z",
     "start_time": "2021-03-03T10:44:15.819202Z"
    },
    "code_folding": [
     8
    ],
    "scrolled": true
   },
   "outputs": [],
   "source": [
    "#Unterteilung in Aktiva und Passiva\n",
    "\n",
    "Year = widgets.Text(placeholder = \"Input please\", description = \"Year\", disabled = False)\n",
    "EBIT = widgets.Text(placeholder = \"Input please\", description = \"EBIT\", disabled = False)\n",
    "FCF = widgets.Text(placeholder = \"Input please\", description = \"FCF\", disabled = False)\n",
    "container1 = widgets.VBox([Year])\n",
    "container2 = widgets.HBox([EBIT, FCF])\n",
    "container3 = widgets.VBox([container1, container2])\n",
    "\n",
    "\n",
    "check_excel= widgets.Checkbox(\n",
    "    value=True,\n",
    "    description='Eingabe als Excel Datei speichern',\n",
    "    disabled=False,\n",
    "    indent=False\n",
    ")"
   ]
  },
  {
   "cell_type": "code",
   "execution_count": 220,
   "metadata": {
    "ExecuteTime": {
     "end_time": "2021-03-03T14:00:46.157492Z",
     "start_time": "2021-03-03T14:00:46.117230Z"
    }
   },
   "outputs": [
    {
     "data": {
      "application/vnd.jupyter.widget-view+json": {
       "model_id": "5b1890ab169f4002a11a346c08894bed",
       "version_major": 2,
       "version_minor": 0
      },
      "text/plain": [
       "Checkbox(value=True, description='Eingabe als Excel Datei speichern', indent=False)"
      ]
     },
     "metadata": {},
     "output_type": "display_data"
    },
    {
     "name": "stdout",
     "output_type": "stream",
     "text": [
      "------------------------\n"
     ]
    },
    {
     "data": {
      "application/vnd.jupyter.widget-view+json": {
       "model_id": "1be68f24d79542e7b51000c62aedb4ad",
       "version_major": 2,
       "version_minor": 0
      },
      "text/plain": [
       "VBox(children=(Checkbox(value=True, description='Eingabe als Excel Datei speichern', indent=False), VBox(child…"
      ]
     },
     "metadata": {},
     "output_type": "display_data"
    }
   ],
   "source": [
    "display(check_excel)\n",
    "print('------------------------')\n",
    "display(container3)\n"
   ]
  },
  {
   "cell_type": "code",
   "execution_count": 39,
   "metadata": {},
   "outputs": [
    {
     "name": "stdout",
     "output_type": "stream",
     "text": [
      "199.8\n"
     ]
    }
   ],
   "source": [
    "print(int(EBIT.value)/5)"
   ]
  },
  {
   "cell_type": "code",
   "execution_count": 151,
   "metadata": {
    "ExecuteTime": {
     "end_time": "2021-03-03T11:31:05.398315Z",
     "start_time": "2021-03-03T11:31:05.374868Z"
    }
   },
   "outputs": [
    {
     "data": {
      "application/vnd.jupyter.widget-view+json": {
       "model_id": "360e354b72e04b54b0e6a80246152252",
       "version_major": 2,
       "version_minor": 0
      },
      "text/plain": [
       "Accordion(children=(IntSlider(value=0), Text(value='')), _titles={'0': 'a', '1': 'b'})"
      ]
     },
     "metadata": {},
     "output_type": "display_data"
    }
   ],
   "source": [
    "accordion1 = widgets.Accordion(children=[widgets.IntSlider(), widgets.Text()], titles=['Slider', 'Text'])\n",
    "accordion1.set_title(0,'a')\n",
    "accordion1.set_title(1,'b')\n",
    "accordion1"
   ]
  },
  {
   "cell_type": "code",
   "execution_count": 152,
   "metadata": {
    "ExecuteTime": {
     "end_time": "2021-03-03T11:32:39.496661Z",
     "start_time": "2021-03-03T11:32:39.449772Z"
    }
   },
   "outputs": [],
   "source": [
    "Year = widgets.Text(placeholder = \"Input please\", description = \"Year\", disabled = False)\n",
    "EBIT = widgets.Text(placeholder = \"Input please\", description = \"EBIT\", disabled = False)\n",
    "FCF = widgets.Text(placeholder = \"Input please\", description = \"FCF\", disabled = False)\n",
    "container1 = widgets.VBox([Year])\n",
    "container2 = widgets.HBox([EBIT, FCF])\n",
    "\n",
    "container3 = widgets.VBox([ check_excel, container1, container2])\n",
    "#holdtext = widgets.Text()\n",
    "fileup = widgets.FileUpload(\n",
    "    accept='',  # Accepted file extension e.g. '.txt', '.pdf', 'image/*', 'image/*,.pdf'\n",
    "    multiple=False  # True to accept multiple files upload else False\n",
    ")\n",
    "\n",
    "accordion2 = widgets.Accordion(children= [container3, fileup])\n",
    "accordion2.set_title(0,'Manuelle Dateneingabe')\n",
    "accordion2.set_title(1,'Datei importieren')\n"
   ]
  },
  {
   "cell_type": "code",
   "execution_count": 163,
   "metadata": {
    "ExecuteTime": {
     "end_time": "2021-03-03T12:08:43.502067Z",
     "start_time": "2021-03-03T12:08:43.478401Z"
    }
   },
   "outputs": [
    {
     "data": {
      "application/vnd.jupyter.widget-view+json": {
       "model_id": "02a784ce61db41769e6a4d280d058a8f",
       "version_major": 2,
       "version_minor": 0
      },
      "text/plain": [
       "Accordion(children=(VBox(children=(Checkbox(value=True, description='Eingabe als Excel Datei speichern', inden…"
      ]
     },
     "metadata": {},
     "output_type": "display_data"
    }
   ],
   "source": [
    "display(accordion2)\n",
    "#Idee: Auswahl ob Datei laden oder manuell Daten eingeben jeweils für globals und balance sheet etc"
   ]
  },
  {
   "cell_type": "code",
   "execution_count": 194,
   "metadata": {
    "ExecuteTime": {
     "end_time": "2021-03-03T13:43:10.710604Z",
     "start_time": "2021-03-03T13:43:10.702168Z"
    }
   },
   "outputs": [],
   "source": [
    "#Jetzt importieren wir das ganze in einen dataframe mit panda, dann zu excel exportierbar.\n",
    "#excel sheet noch je nach toggle importieren??\n",
    "y = str(Year.value)"
   ]
  },
  {
   "cell_type": "markdown",
   "metadata": {
    "ExecuteTime": {
     "end_time": "2021-03-03T11:36:26.333272Z",
     "start_time": "2021-03-03T11:36:26.313751Z"
    }
   },
   "source": [
    "Dataframe Anzeigemöglichkeiten"
   ]
  },
  {
   "cell_type": "code",
   "execution_count": 201,
   "metadata": {
    "ExecuteTime": {
     "end_time": "2021-03-03T13:46:08.634016Z",
     "start_time": "2021-03-03T13:46:08.607876Z"
    }
   },
   "outputs": [
    {
     "data": {
      "text/html": [
       "<div>\n",
       "<style scoped>\n",
       "    .dataframe tbody tr th:only-of-type {\n",
       "        vertical-align: middle;\n",
       "    }\n",
       "\n",
       "    .dataframe tbody tr th {\n",
       "        vertical-align: top;\n",
       "    }\n",
       "\n",
       "    .dataframe thead th {\n",
       "        text-align: right;\n",
       "    }\n",
       "</style>\n",
       "<table border=\"1\" class=\"dataframe\">\n",
       "  <thead>\n",
       "    <tr style=\"text-align: right;\">\n",
       "      <th></th>\n",
       "      <th>2015</th>\n",
       "    </tr>\n",
       "  </thead>\n",
       "  <tbody>\n",
       "    <tr>\n",
       "      <th>Sachanlagen</th>\n",
       "      <td>2000</td>\n",
       "    </tr>\n",
       "    <tr>\n",
       "      <th>Immaterielle Vermögenswerte</th>\n",
       "      <td>3000</td>\n",
       "    </tr>\n",
       "  </tbody>\n",
       "</table>\n",
       "</div>"
      ],
      "text/plain": [
       "                             2015\n",
       "Sachanlagen                  2000\n",
       "Immaterielle Vermögenswerte  3000"
      ]
     },
     "execution_count": 201,
     "metadata": {},
     "output_type": "execute_result"
    }
   ],
   "source": [
    " \n",
    "Bilanz_Aktivia = ['Sachanlagen','Immaterielle Vermögenswerte']# 'Firmenwert']\n",
    "df1 = pd.DataFrame([[EBIT.value], [FCF.value]], Bilanz_Aktivia, [y])\n",
    "df1  \n",
    "#hübsch, aber wie in excel exportieren??"
   ]
  },
  {
   "cell_type": "code",
   "execution_count": 221,
   "metadata": {
    "ExecuteTime": {
     "end_time": "2021-03-03T14:04:58.904145Z",
     "start_time": "2021-03-03T14:04:58.862421Z"
    }
   },
   "outputs": [
    {
     "name": "stdout",
     "output_type": "stream",
     "text": [
      "a)\n"
     ]
    },
    {
     "data": {
      "text/html": [
       "<div>\n",
       "<style scoped>\n",
       "    .dataframe tbody tr th:only-of-type {\n",
       "        vertical-align: middle;\n",
       "    }\n",
       "\n",
       "    .dataframe tbody tr th {\n",
       "        vertical-align: top;\n",
       "    }\n",
       "\n",
       "    .dataframe thead th {\n",
       "        text-align: right;\n",
       "    }\n",
       "</style>\n",
       "<table border=\"1\" class=\"dataframe\">\n",
       "  <thead>\n",
       "    <tr style=\"text-align: right;\">\n",
       "      <th></th>\n",
       "      <th>2015</th>\n",
       "    </tr>\n",
       "  </thead>\n",
       "  <tbody>\n",
       "    <tr>\n",
       "      <th>Sachanlagen</th>\n",
       "      <td>2000</td>\n",
       "    </tr>\n",
       "    <tr>\n",
       "      <th>Firmenwert</th>\n",
       "      <td>3000</td>\n",
       "    </tr>\n",
       "  </tbody>\n",
       "</table>\n",
       "</div>"
      ],
      "text/plain": [
       "             2015\n",
       "Sachanlagen  2000\n",
       "Firmenwert   3000"
      ]
     },
     "metadata": {},
     "output_type": "display_data"
    },
    {
     "name": "stdout",
     "output_type": "stream",
     "text": [
      "b)\n"
     ]
    },
    {
     "data": {
      "text/html": [
       "<div>\n",
       "<style scoped>\n",
       "    .dataframe tbody tr th:only-of-type {\n",
       "        vertical-align: middle;\n",
       "    }\n",
       "\n",
       "    .dataframe tbody tr th {\n",
       "        vertical-align: top;\n",
       "    }\n",
       "\n",
       "    .dataframe thead th {\n",
       "        text-align: right;\n",
       "    }\n",
       "</style>\n",
       "<table border=\"1\" class=\"dataframe\">\n",
       "  <thead>\n",
       "    <tr style=\"text-align: right;\">\n",
       "      <th></th>\n",
       "      <th>Sachanlagen</th>\n",
       "      <th>Firmenwert</th>\n",
       "    </tr>\n",
       "  </thead>\n",
       "  <tbody>\n",
       "    <tr>\n",
       "      <th>2015</th>\n",
       "      <td>2000</td>\n",
       "      <td>3000</td>\n",
       "    </tr>\n",
       "  </tbody>\n",
       "</table>\n",
       "</div>"
      ],
      "text/plain": [
       "     Sachanlagen Firmenwert\n",
       "2015        2000       3000"
      ]
     },
     "metadata": {},
     "output_type": "display_data"
    }
   ],
   "source": [
    "df = pd.DataFrame({'Sachanlagen': [EBIT.value], \n",
    "                   'Firmenwert': [FCF.value]})\n",
    "df2= df.rename(index={0: '2015'})\n",
    "print('a)')\n",
    "display(df2.T)\n",
    "print('b)')\n",
    "display(df2)"
   ]
  },
  {
   "cell_type": "code",
   "execution_count": 219,
   "metadata": {
    "ExecuteTime": {
     "end_time": "2021-03-03T13:55:40.363925Z",
     "start_time": "2021-03-03T13:55:40.183685Z"
    },
    "code_folding": []
   },
   "outputs": [],
   "source": [
    "df.to_excel(\"text2.xlsx\")\n",
    "#df2 = pd.read_excel('')\n",
    "\n",
    "\n",
    "##  bei jeder Ausführung muss erstellte Excel-Datei eine neue sein,\n",
    "##  wie einstellen?\n",
    "\n",
    "## Mögliche Lösung: "
   ]
  },
  {
   "cell_type": "markdown",
   "metadata": {
    "ExecuteTime": {
     "end_time": "2021-03-03T13:25:32.982585Z",
     "start_time": "2021-03-03T13:25:32.963202Z"
    }
   },
   "source": [
    "# Questions"
   ]
  },
  {
   "cell_type": "code",
   "execution_count": null,
   "metadata": {},
   "outputs": [],
   "source": [
    "#  Sollen DCF und MV in verschiedene Notebooks? Soll es dafür eine einzelne \n",
    "#  Inputdatei geben oder müssen Werte teilweise doppelt importiert werden?\n",
    "\n",
    "#  Aktiva, Passiva, etc jeweils eigene Dataframes? Dataframe appenden?\n",
    "#  Gesamtinput in einem??\n",
    "\n",
    "##  Bisher so gedacht, dass immer ein Jahr eingegeben wird, Knopf zum\n",
    "##  'Befüllen' und von dort dann "
   ]
  },
  {
   "cell_type": "code",
   "execution_count": null,
   "metadata": {},
   "outputs": [],
   "source": []
  },
  {
   "cell_type": "markdown",
   "metadata": {},
   "source": [
    "## Eingabe Globals"
   ]
  },
  {
   "cell_type": "code",
   "execution_count": null,
   "metadata": {},
   "outputs": [],
   "source": [
    "#analog für Globals Accordion, ebenso Gewinn und Verlust und Kapitalfluss"
   ]
  },
  {
   "cell_type": "markdown",
   "metadata": {
    "ExecuteTime": {
     "end_time": "2021-03-03T14:05:34.970040Z",
     "start_time": "2021-03-03T14:05:34.965588Z"
    }
   },
   "source": [
    "## Discounted Cash Flow"
   ]
  },
  {
   "cell_type": "markdown",
   "metadata": {
    "ExecuteTime": {
     "end_time": "2021-03-03T14:07:28.780565Z",
     "start_time": "2021-03-03T14:07:28.767616Z"
    }
   },
   "source": [
    "Berechnungen über skriptfile, kleiner Text dazu + Formel\n"
   ]
  },
  {
   "cell_type": "code",
   "execution_count": null,
   "metadata": {},
   "outputs": [],
   "source": []
  },
  {
   "cell_type": "code",
   "execution_count": null,
   "metadata": {},
   "outputs": [],
   "source": []
  },
  {
   "cell_type": "code",
   "execution_count": null,
   "metadata": {},
   "outputs": [],
   "source": []
  }
 ],
 "metadata": {
  "kernelspec": {
   "display_name": "Python 3",
   "language": "python",
   "name": "python3"
  },
  "language_info": {
   "codemirror_mode": {
    "name": "ipython",
    "version": 3
   },
   "file_extension": ".py",
   "mimetype": "text/x-python",
   "name": "python",
   "nbconvert_exporter": "python",
   "pygments_lexer": "ipython3",
   "version": "3.7.6"
  },
  "toc": {
   "base_numbering": 1,
   "nav_menu": {},
   "number_sections": true,
   "sideBar": true,
   "skip_h1_title": false,
   "title_cell": "Table of Contents",
   "title_sidebar": "Contents",
   "toc_cell": false,
   "toc_position": {},
   "toc_section_display": true,
   "toc_window_display": false
  },
  "varInspector": {
   "cols": {
    "lenName": 16,
    "lenType": 16,
    "lenVar": 40
   },
   "kernels_config": {
    "python": {
     "delete_cmd_postfix": "",
     "delete_cmd_prefix": "del ",
     "library": "var_list.py",
     "varRefreshCmd": "print(var_dic_list())"
    },
    "r": {
     "delete_cmd_postfix": ") ",
     "delete_cmd_prefix": "rm(",
     "library": "var_list.r",
     "varRefreshCmd": "cat(var_dic_list()) "
    }
   },
   "types_to_exclude": [
    "module",
    "function",
    "builtin_function_or_method",
    "instance",
    "_Feature"
   ],
   "window_display": false
  }
 },
 "nbformat": 4,
 "nbformat_minor": 4
}
